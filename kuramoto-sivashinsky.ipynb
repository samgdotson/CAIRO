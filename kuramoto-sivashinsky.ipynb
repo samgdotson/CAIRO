{
 "cells": [
  {
   "cell_type": "code",
   "execution_count": 1,
   "metadata": {},
   "outputs": [],
   "source": [
    "from pde.pdes.kuramoto_sivashinsky import KuramotoSivashinskyPDE as KSE\n",
    "from pde import PDEBase, ScalarField, UnitGrid\n",
    "import numba as nb\n",
    "import numpy as np\n",
    "import numpy.random as rd\n",
    "\n",
    "from pyESN.pyESN import ESN\n",
    "from tools import esn_prediction\n",
    "\n",
    "import matplotlib.pyplot as plt"
   ]
  },
  {
   "cell_type": "code",
   "execution_count": 2,
   "metadata": {},
   "outputs": [
    {
     "data": {
      "application/vnd.jupyter.widget-view+json": {
       "model_id": "37d4bf0ad2b24f7cb5bc61c5e4371daf",
       "version_major": 2,
       "version_minor": 0
      },
      "text/plain": [
       "HBox(children=(FloatProgress(value=0.0, max=10.0), HTML(value='')))"
      ]
     },
     "metadata": {},
     "output_type": "display_data"
    }
   ],
   "source": [
    "grid = UnitGrid([20, 20000])\n",
    "state = ScalarField.random_uniform(grid, seed=85) # generates initial condition\n",
    "eq = KSE()\n",
    "result = eq.solve(state, t_range=10, dt=0.01)\n",
    "# result.plot()"
   ]
  },
  {
   "cell_type": "code",
   "execution_count": 3,
   "metadata": {
    "scrolled": false
   },
   "outputs": [],
   "source": [
    "X_in = result.data"
   ]
  },
  {
   "cell_type": "code",
   "execution_count": 4,
   "metadata": {},
   "outputs": [],
   "source": [
    "params = {'n_reservoir':9000, \n",
    "          'sparsity':0.5, \n",
    "          'rand_seed':85, \n",
    "          'rho':0.4, \n",
    "          'noise':0.0001, \n",
    "          'future':20, \n",
    "          'window':20, \n",
    "          'trainlen':9000}"
   ]
  },
  {
   "cell_type": "code",
   "execution_count": 5,
   "metadata": {},
   "outputs": [],
   "source": [
    "actual = X_in.T[-100:]\n",
    "predicted = esn_prediction(X_in.T, params)"
   ]
  },
  {
   "cell_type": "code",
   "execution_count": 6,
   "metadata": {},
   "outputs": [
    {
     "name": "stdout",
     "output_type": "stream",
     "text": [
      "(20, 20000)\n",
      "(100, 20)\n",
      "(20, 20)\n"
     ]
    }
   ],
   "source": [
    "print(X_in.shape)\n",
    "print(actual[-100:].shape)\n",
    "print(predicted.shape)"
   ]
  },
  {
   "cell_type": "code",
   "execution_count": 12,
   "metadata": {},
   "outputs": [
    {
     "data": {
      "text/plain": [
       "(20, 20)"
      ]
     },
     "execution_count": 12,
     "metadata": {},
     "output_type": "execute_result"
    }
   ],
   "source": [
    "actual[-20:].T.shape"
   ]
  },
  {
   "cell_type": "code",
   "execution_count": 15,
   "metadata": {},
   "outputs": [
    {
     "data": {
      "text/plain": [
       "(20, 20)"
      ]
     },
     "execution_count": 15,
     "metadata": {},
     "output_type": "execute_result"
    }
   ],
   "source": [
    "shorter = actual[-20:]\n",
    "shorter.shape"
   ]
  },
  {
   "cell_type": "code",
   "execution_count": 17,
   "metadata": {
    "scrolled": false
   },
   "outputs": [
    {
     "data": {
      "image/png": "[encoded data removed]",
      "text/plain": [
       "<Figure size 1152x720 with 4 Axes>"
      ]
     },
     "metadata": {
      "needs_background": "light"
     },
     "output_type": "display_data"
    }
   ],
   "source": [
    "difference = actual[-20:] - predicted\n",
    "fig, ax = plt.subplots(3,figsize=(16,10))\n",
    "im = ax[0].imshow(shorter.T)\n",
    "ax[0].set_title('Actual')\n",
    "ax[1].imshow(predicted.T)\n",
    "ax[1].set_title('Predicted')\n",
    "ax[2].imshow(difference.T)\n",
    "ax[2].set_title('Difference')\n",
    "fig.colorbar(im, ax=ax.ravel().tolist())\n",
    "plt.show()"
   ]
  },
  {
   "cell_type": "code",
   "execution_count": null,
   "metadata": {},
   "outputs": [],
   "source": []
  }
 ],
 "metadata": {
  "kernelspec": {
   "display_name": "Python 3",
   "language": "python",
   "name": "python3"
  },
  "language_info": {
   "codemirror_mode": {
    "name": "ipython",
    "version": 3
   },
   "file_extension": ".py",
   "mimetype": "text/x-python",
   "name": "python",
   "nbconvert_exporter": "python",
   "pygments_lexer": "ipython3",
   "version": "3.7.6"
  }
 },
 "nbformat": 4,
 "nbformat_minor": 4
}
